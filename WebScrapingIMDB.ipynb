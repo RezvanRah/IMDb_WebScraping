{
 "cells": [
  {
   "cell_type": "markdown",
   "id": "75995786-4175-45c4-86f5-f43a54023afc",
   "metadata": {},
   "source": [
    "<h1>IMDb: Most Popular TV Shows Dataset </h1>"
   ]
  },
  {
   "cell_type": "markdown",
   "id": "ca9c77e0-246c-4a06-9c5a-4999da961e32",
   "metadata": {},
   "source": [
    "<div>\n",
    "<img src=\"IMDb.png\" width=\"600\"/>\n",
    "</div>"
   ]
  },
  {
   "cell_type": "markdown",
   "id": "fdcdfe03-5834-4528-9275-4ecb8d4d0a88",
   "metadata": {},
   "source": [
    "<h3>This dataset was created using web scraping python library: BeautifulSoup.</h3>\n",
    "\n",
    "<h3>The dataset includes information such as Rank, Name, Year and Rating of TV shows.</h3> \n",
    "\n",
    "<h3> The data can be used to analyze top rated TV shows, highest and lowest ratings, average show releases each year and so on.</h3>"
   ]
  },
  {
   "cell_type": "code",
   "execution_count": 33,
   "id": "8e94291f-4d0b-49ec-a8d8-42f64046df6c",
   "metadata": {},
   "outputs": [],
   "source": [
    "#importing necessary libraries\n",
    "from bs4 import BeautifulSoup\n",
    "import requests\n",
    "import pandas as pd"
   ]
  },
  {
   "cell_type": "code",
   "execution_count": 32,
   "id": "49995406-5bdf-4cfb-ab81-c46399435837",
   "metadata": {},
   "outputs": [
    {
     "name": "stdout",
     "output_type": "stream",
     "text": [
      "    Rank                                 Name  Year Rating\n",
      "0      1  Queen Charlotte: A Bridgerton Story  2023    7.2\n",
      "1      2                                 Silo  2023    8.3\n",
      "2      3                           Succession  2018    8.8\n",
      "3      4                            Ted Lasso  2020    8.8\n",
      "4      5                         The Diplomat  2023    8.1\n",
      "..   ...                                  ...   ...    ...\n",
      "95    96                                 Lost  2004    8.3\n",
      "96    97                                Candy  2022    7.2\n",
      "97    98                                  You  2018    7.7\n",
      "98    99                            Dalgliesh  2021    7.5\n",
      "99   100                 The Company You Keep  2023    7.3\n",
      "\n",
      "[100 rows x 4 columns]\n"
     ]
    }
   ],
   "source": [
    "#Sending request to IMDb website and extracting data with BeautifulSoup\n",
    "source = requests.get('https://www.imdb.com/chart/tvmeter/')\n",
    "source.raise_for_status()\n",
    "\n",
    "soup = BeautifulSoup(source.text, 'html.parser')\n",
    "\n",
    "series = soup.find('tbody', class_ = \"lister-list\").find_all('tr')\n",
    "    \n",
    "data = []\n",
    "\n",
    "for i, serie in enumerate(series):\n",
    "    name = serie.find('td', class_ = \"titleColumn\").a.text\n",
    "    year = serie.find('td', class_ = \"titleColumn\").span.text.strip('()')\n",
    "    rating_elem = serie.find('td', class_=\"ratingColumn imdbRating\").strong\n",
    "    rating = rating_elem.text.strip('[]') if rating_elem is not None else 'N/A'\n",
    "    data.append([i+1,name, year, rating])\n",
    "    \n",
    "df = pd.DataFrame(data, columns=['Rank', 'Name', 'Year', 'Rating'])\n",
    "print(df)\n",
    "    "
   ]
  },
  {
   "cell_type": "code",
   "execution_count": 34,
   "id": "a8410bfe-edd4-47b4-a0c8-702be0e12b20",
   "metadata": {},
   "outputs": [],
   "source": [
    "#saving to an excel file\n",
    "from pandas.io.formats.excel import ExcelFormatter\n",
    "\n",
    "df.to_excel('WebScrapingIMDB.xlsx', index = False)"
   ]
  },
  {
   "cell_type": "code",
   "execution_count": 35,
   "id": "89f30ea9-0196-4384-a307-19cc5f653bed",
   "metadata": {},
   "outputs": [],
   "source": [
    "#saving to a .csv file \n",
    "df.to_csv('WebScrapingIMDB.csv', index = False)"
   ]
  }
 ],
 "metadata": {
  "kernelspec": {
   "display_name": "Python 3 (ipykernel)",
   "language": "python",
   "name": "python3"
  },
  "language_info": {
   "codemirror_mode": {
    "name": "ipython",
    "version": 3
   },
   "file_extension": ".py",
   "mimetype": "text/x-python",
   "name": "python",
   "nbconvert_exporter": "python",
   "pygments_lexer": "ipython3",
   "version": "3.8.13"
  }
 },
 "nbformat": 4,
 "nbformat_minor": 5
}
